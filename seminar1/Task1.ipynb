{
  "cells": [
    {
      "cell_type": "markdown",
      "metadata": {
        "id": "view-in-github",
        "colab_type": "text"
      },
      "source": [
        "<a href=\"https://colab.research.google.com/github/Macleyn/Algoritms/blob/main/seminar1/Task1.ipynb\" target=\"_parent\"><img src=\"https://colab.research.google.com/assets/colab-badge.svg\" alt=\"Open In Colab\"/></a>"
      ]
    },
    {
      "cell_type": "code",
      "source": [
        "import unittest\n",
        "\n",
        "def sum(N):\n",
        "    result = 0\n",
        "    for i in range(N // 2):\n",
        "        result += N + 1\n",
        "    if N % 2 == 1:\n",
        "        result += N // 2 + 1\n",
        "    return result\n",
        "\n",
        "class TestSumFunction(unittest.TestCase):\n",
        "\n",
        "    def test_even_number(self):\n",
        "        self.assertEqual(sum(4), 10)  # 4 + 4 + 2 = 10\n",
        "\n",
        "    def test_odd_number(self):\n",
        "        self.assertEqual(sum(5), 15)  # 5 + 5 + 5 + 3 = 18\n",
        "\n",
        "    def test_zero(self):\n",
        "        self.assertEqual(sum(0), 0)\n",
        "\n",
        "    def test_one(self):\n",
        "        self.assertEqual(sum(1), 1)\n",
        "\n",
        "    def test_large_even_number(self):\n",
        "        self.assertEqual(sum(100), 5050)\n",
        "\n",
        "    def test_large_odd_number(self):\n",
        "        self.assertEqual(sum(101), 5151)\n",
        "\n",
        "if __name__ == '__main__':\n",
        "    unittest.main(argv=[''], exit=False)\n"
      ],
      "metadata": {
        "colab": {
          "base_uri": "https://localhost:8080/"
        },
        "id": "ctpcVoMlPjES",
        "outputId": "1fec4113-c0ee-4630-8298-09e0d5bfbd2b"
      },
      "execution_count": 3,
      "outputs": [
        {
          "output_type": "stream",
          "name": "stderr",
          "text": [
            "...............\n",
            "----------------------------------------------------------------------\n",
            "Ran 15 tests in 0.020s\n",
            "\n",
            "OK\n"
          ]
        }
      ]
    }
  ],
  "metadata": {
    "kernelspec": {
      "display_name": "Python 3 (ipykernel)",
      "language": "python",
      "name": "python3"
    },
    "language_info": {
      "codemirror_mode": {
        "name": "ipython",
        "version": 3
      },
      "file_extension": ".py",
      "mimetype": "text/x-python",
      "name": "python",
      "nbconvert_exporter": "python",
      "pygments_lexer": "ipython3",
      "version": "3.8.10"
    },
    "colab": {
      "provenance": [],
      "include_colab_link": true
    }
  },
  "nbformat": 4,
  "nbformat_minor": 0
}