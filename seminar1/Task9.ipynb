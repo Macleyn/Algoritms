{
  "cells": [
    {
      "cell_type": "markdown",
      "metadata": {
        "id": "view-in-github",
        "colab_type": "text"
      },
      "source": [
        "<a href=\"https://colab.research.google.com/github/Macleyn/Algoritms/blob/main/seminar1/Task9.ipynb\" target=\"_parent\"><img src=\"https://colab.research.google.com/assets/colab-badge.svg\" alt=\"Open In Colab\"/></a>"
      ]
    },
    {
      "cell_type": "code",
      "source": [
        "import unittest\n",
        "\n",
        "def filtr(arr):\n",
        "  j = 0\n",
        "  for i in range(len(arr)):\n",
        "    if arr[i] != 0:\n",
        "      arr[i], arr[j] = arr[j], arr[i]\n",
        "      j += 1\n",
        "  return arr\n",
        "\n",
        "class TestFiltr(unittest.TestCase):\n",
        "\n",
        "    def test_no_zeros(self):\n",
        "        self.assertEqual(filtr([1, 2, 3, 4, 5]), [1, 2, 3, 4, 5])\n",
        "\n",
        "    def test_all_zeros(self):\n",
        "        self.assertEqual(filtr([0, 0, 0, 0]), [0, 0, 0, 0])\n",
        "\n",
        "    def test_zeros_at_end(self):\n",
        "        self.assertEqual(filtr([1, 2, 3, 0, 0]), [1, 2, 3, 0, 0])\n",
        "\n",
        "    def test_zeros_at_start(self):\n",
        "        self.assertEqual(filtr([0, 0, 1, 2, 3]), [1, 2, 3, 0, 0])\n",
        "\n",
        "    def test_mixed_zeros(self):\n",
        "        self.assertEqual(filtr([0, 1, 0, 2, 0, 3]), [1, 2, 3, 0, 0, 0])\n",
        "\n",
        "    def test_empty_array(self):\n",
        "        self.assertEqual(filtr([]), [])\n",
        "\n",
        "    def test_single_zero(self):\n",
        "        self.assertEqual(filtr([0]), [0])\n",
        "\n",
        "    def test_single_non_zero(self):\n",
        "        self.assertEqual(filtr([1]), [1])\n",
        "\n",
        "    def test_large_array(self):\n",
        "        self.assertEqual(filtr([0, 1, 2, 0, 3, 4, 0, 5, 6]), [1, 2, 3, 4, 5, 6, 0, 0, 0])\n",
        "\n",
        "    def test_zeros_in_middle(self):\n",
        "        self.assertEqual(filtr([1, 2, 0, 0, 3, 4]), [1, 2, 3, 4, 0, 0])\n",
        "\n",
        "if __name__ == '__main__':\n",
        "    unittest.main(argv=[''], exit=False)"
      ],
      "metadata": {
        "colab": {
          "base_uri": "https://localhost:8080/"
        },
        "id": "ctpcVoMlPjES",
        "outputId": "ea7c7465-1513-49b8-bbec-4e33ad10edb2"
      },
      "execution_count": 13,
      "outputs": [
        {
          "output_type": "stream",
          "name": "stderr",
          "text": [
            "......................................\n",
            "----------------------------------------------------------------------\n",
            "Ran 38 tests in 0.028s\n",
            "\n",
            "OK\n"
          ]
        }
      ]
    }
  ],
  "metadata": {
    "kernelspec": {
      "display_name": "Python 3 (ipykernel)",
      "language": "python",
      "name": "python3"
    },
    "language_info": {
      "codemirror_mode": {
        "name": "ipython",
        "version": 3
      },
      "file_extension": ".py",
      "mimetype": "text/x-python",
      "name": "python",
      "nbconvert_exporter": "python",
      "pygments_lexer": "ipython3",
      "version": "3.8.10"
    },
    "colab": {
      "provenance": [],
      "include_colab_link": true
    }
  },
  "nbformat": 4,
  "nbformat_minor": 0
}