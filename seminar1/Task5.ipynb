{
  "cells": [
    {
      "cell_type": "markdown",
      "metadata": {
        "id": "view-in-github",
        "colab_type": "text"
      },
      "source": [
        "<a href=\"https://colab.research.google.com/github/Macleyn/Algoritms/blob/main/seminar1/Task5.ipynb\" target=\"_parent\"><img src=\"https://colab.research.google.com/assets/colab-badge.svg\" alt=\"Open In Colab\"/></a>"
      ]
    },
    {
      "cell_type": "code",
      "source": [
        "import unittest\n",
        "\n",
        "def merge(arr1, arr2):\n",
        "    pointer1 = len(arr1) - 1\n",
        "    pointer2 = len(arr2) - 1\n",
        "    pointer3 = len(arr1) + len(arr2) - 1\n",
        "    arr1 += len(arr2) * [0]\n",
        "    while pointer2 >= 0:\n",
        "        if arr1[pointer1] > arr2[pointer2] and pointer1 >= 0:\n",
        "            arr1[pointer3] = arr1[pointer1]\n",
        "            pointer1 -= 1\n",
        "        else:\n",
        "            arr1[pointer3] = arr2[pointer2]\n",
        "            pointer2 -= 1\n",
        "        pointer3 -= 1\n",
        "    return arr1\n",
        "\n",
        "class TestMergeFunction(unittest.TestCase):\n",
        "\n",
        "    def test_merge_basic(self):\n",
        "        arr1 = [1, 3, 5]\n",
        "        arr2 = [2, 4, 6]\n",
        "        result = merge(arr1, arr2)\n",
        "        self.assertEqual(result, [1, 2, 3, 4, 5, 6])\n",
        "\n",
        "    def test_merge_empty_arr1(self):\n",
        "        arr1 = []\n",
        "        arr2 = [2, 4, 6]\n",
        "        result = merge(arr1, arr2)\n",
        "        self.assertEqual(result, [2, 4, 6])\n",
        "\n",
        "    def test_merge_empty_arr2(self):\n",
        "        arr1 = [1, 3, 5]\n",
        "        arr2 = []\n",
        "        result = merge(arr1, arr2)\n",
        "        self.assertEqual(result, [1, 3, 5])\n",
        "\n",
        "    def test_merge_both_empty(self):\n",
        "        arr1 = []\n",
        "        arr2 = []\n",
        "        result = merge(arr1, arr2)\n",
        "        self.assertEqual(result, [])\n",
        "\n",
        "    def test_merge_different_lengths(self):\n",
        "        arr1 = [1, 3, 5, 7]\n",
        "        arr2 = [2, 4]\n",
        "        result = merge(arr1, arr2)\n",
        "        self.assertEqual(result, [1, 2, 3, 4, 5, 7])\n",
        "\n",
        "    def test_merge_duplicates(self):\n",
        "        arr1 = [1, 2, 2, 3]\n",
        "        arr2 = [2, 4, 4]\n",
        "        result = merge(arr1, arr2)\n",
        "        self.assertEqual(result, [1, 2, 2, 2, 3, 4, 4])\n",
        "\n",
        "    def test_merge_single_element(self):\n",
        "        arr1 = [10]\n",
        "        arr2 = [5]\n",
        "        result = merge(arr1, arr2)\n",
        "        self.assertEqual(result, [5, 10])\n",
        "\n",
        "if __name__ == '__main__':\n",
        "    unittest.main(argv=[''], exit=False)"
      ],
      "metadata": {
        "colab": {
          "base_uri": "https://localhost:8080/"
        },
        "id": "ctpcVoMlPjES",
        "outputId": "482e2ec0-c2c4-40e4-83e3-6946c5f19bf3"
      },
      "execution_count": 2,
      "outputs": [
        {
          "output_type": "stream",
          "name": "stderr",
          "text": [
            "...............\n",
            "----------------------------------------------------------------------\n",
            "Ran 15 tests in 0.016s\n",
            "\n",
            "OK\n"
          ]
        }
      ]
    }
  ],
  "metadata": {
    "kernelspec": {
      "display_name": "Python 3 (ipykernel)",
      "language": "python",
      "name": "python3"
    },
    "language_info": {
      "codemirror_mode": {
        "name": "ipython",
        "version": 3
      },
      "file_extension": ".py",
      "mimetype": "text/x-python",
      "name": "python",
      "nbconvert_exporter": "python",
      "pygments_lexer": "ipython3",
      "version": "3.8.10"
    },
    "colab": {
      "provenance": [],
      "include_colab_link": true
    }
  },
  "nbformat": 4,
  "nbformat_minor": 0
}