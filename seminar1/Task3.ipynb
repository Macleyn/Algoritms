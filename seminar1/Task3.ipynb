{
  "cells": [
    {
      "cell_type": "markdown",
      "metadata": {
        "id": "view-in-github",
        "colab_type": "text"
      },
      "source": [
        "<a href=\"https://colab.research.google.com/github/Macleyn/Algoritms/blob/main/seminar1/Task3.ipynb\" target=\"_parent\"><img src=\"https://colab.research.google.com/assets/colab-badge.svg\" alt=\"Open In Colab\"/></a>"
      ]
    },
    {
      "cell_type": "code",
      "source": [
        "import unittest\n",
        "\n",
        "def reverseArray(array):\n",
        "    left = 0\n",
        "    right = len(array) - 1\n",
        "    while left < right:\n",
        "        array[left], array[right] = array[right], array[left]\n",
        "        left += 1\n",
        "        right -= 1\n",
        "    return array\n",
        "\n",
        "class TestReverseArray(unittest.TestCase):\n",
        "\n",
        "    def test_empty_array(self):\n",
        "        self.assertEqual(reverseArray([]), [])\n",
        "\n",
        "    def test_single_element_array(self):\n",
        "        self.assertEqual(reverseArray([1]), [1])\n",
        "\n",
        "    def test_even_length_array(self):\n",
        "        self.assertEqual(reverseArray([1, 2, 3, 4]), [4, 3, 2, 1])\n",
        "\n",
        "    def test_odd_length_array(self):\n",
        "        self.assertEqual(reverseArray([1, 2, 3, 4, 5]), [5, 4, 3, 2, 1])\n",
        "\n",
        "    def test_array_with_negative_numbers(self):\n",
        "        self.assertEqual(reverseArray([-1, -2, -3, -4]), [-4, -3, -2, -1])\n",
        "\n",
        "    def test_array_with_mixed_numbers(self):\n",
        "        self.assertEqual(reverseArray([-1, 2, -3, 4]), [4, -3, 2, -1])\n",
        "\n",
        "    def test_array_with_duplicates(self):\n",
        "        self.assertEqual(reverseArray([1, 2, 2, 3]), [3, 2, 2, 1])\n",
        "\n",
        "    def test_array_with_strings(self):\n",
        "        self.assertEqual(reverseArray(['a', 'b', 'c']), ['c', 'b', 'a'])\n",
        "\n",
        "    def test_array_with_mixed_types(self):\n",
        "        self.assertEqual(reverseArray([1, 'a', 2, 'b']), ['b', 2, 'a', 1])\n",
        "\n",
        "if __name__ == '__main__':\n",
        "    unittest.main(argv=[''], exit=False)"
      ],
      "metadata": {
        "colab": {
          "base_uri": "https://localhost:8080/"
        },
        "id": "ctpcVoMlPjES",
        "outputId": "7c439b84-f47d-4bf6-d04f-e0e33fdd3b54"
      },
      "execution_count": 5,
      "outputs": [
        {
          "output_type": "stream",
          "name": "stderr",
          "text": [
            ".......................\n",
            "----------------------------------------------------------------------\n",
            "Ran 23 tests in 0.022s\n",
            "\n",
            "OK\n"
          ]
        }
      ]
    }
  ],
  "metadata": {
    "kernelspec": {
      "display_name": "Python 3 (ipykernel)",
      "language": "python",
      "name": "python3"
    },
    "language_info": {
      "codemirror_mode": {
        "name": "ipython",
        "version": 3
      },
      "file_extension": ".py",
      "mimetype": "text/x-python",
      "name": "python",
      "nbconvert_exporter": "python",
      "pygments_lexer": "ipython3",
      "version": "3.8.10"
    },
    "colab": {
      "provenance": [],
      "include_colab_link": true
    }
  },
  "nbformat": 4,
  "nbformat_minor": 0
}