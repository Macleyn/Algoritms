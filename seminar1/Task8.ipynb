{
  "cells": [
    {
      "cell_type": "markdown",
      "metadata": {
        "id": "view-in-github",
        "colab_type": "text"
      },
      "source": [
        "<a href=\"https://colab.research.google.com/github/Macleyn/Algoritms/blob/main/seminar1/Task8.ipynb\" target=\"_parent\"><img src=\"https://colab.research.google.com/assets/colab-badge.svg\" alt=\"Open In Colab\"/></a>"
      ]
    },
    {
      "cell_type": "code",
      "source": [
        "import unittest\n",
        "\n",
        "def evenFirst(arr):\n",
        "    j = 0\n",
        "    for i in range(len(arr)):\n",
        "        if arr[i] % 2 == 0:\n",
        "            arr[i], arr[j] = arr[j], arr[i]\n",
        "            j += 1\n",
        "    return arr\n",
        "\n",
        "class TestEvenFirst(unittest.TestCase):\n",
        "\n",
        "    def test_all_even(self):\n",
        "        self.assertEqual(evenFirst([2, 4, 6, 8]), [2, 4, 6, 8])\n",
        "\n",
        "    def test_all_odd(self):\n",
        "        self.assertEqual(evenFirst([1, 3, 5, 7]), [1, 3, 5, 7])\n",
        "\n",
        "    def test_mixed_even_odd(self):\n",
        "        self.assertEqual(evenFirst([1, 2, 3, 4, 5, 6]), [2, 4, 6, 1, 5, 3])\n",
        "\n",
        "    def test_empty_array(self):\n",
        "        self.assertEqual(evenFirst([]), [])\n",
        "\n",
        "    def test_single_even(self):\n",
        "        self.assertEqual(evenFirst([2]), [2])\n",
        "\n",
        "    def test_single_odd(self):\n",
        "        self.assertEqual(evenFirst([1]), [1])\n",
        "\n",
        "    def test_even_at_start(self):\n",
        "        self.assertEqual(evenFirst([2, 4, 1, 3]), [2, 4, 1, 3])\n",
        "\n",
        "    def test_even_at_end(self):\n",
        "        self.assertEqual(evenFirst([1, 3, 2, 4]), [2, 4, 1, 3])\n",
        "\n",
        "    def test_large_array(self):\n",
        "        self.assertEqual(evenFirst([1, 2, 3, 4, 5, 6, 7, 8, 9, 10]), [2, 4, 6, 8, 10, 3, 7, 1, 9, 5])\n",
        "\n",
        "    def test_zeros(self):\n",
        "        self.assertEqual(evenFirst([0, 1, 0, 3, 0, 5]), [0, 0, 0, 3, 1, 5])\n",
        "\n",
        "if __name__ == '__main__':\n",
        "    unittest.main(argv=[''], exit=False)"
      ],
      "metadata": {
        "colab": {
          "base_uri": "https://localhost:8080/"
        },
        "id": "ctpcVoMlPjES",
        "outputId": "7f3b92a5-f765-4a7f-e56a-c3b46300efd2"
      },
      "execution_count": 11,
      "outputs": [
        {
          "output_type": "stream",
          "name": "stderr",
          "text": [
            "............................\n",
            "----------------------------------------------------------------------\n",
            "Ran 28 tests in 0.029s\n",
            "\n",
            "OK\n"
          ]
        }
      ]
    }
  ],
  "metadata": {
    "kernelspec": {
      "display_name": "Python 3 (ipykernel)",
      "language": "python",
      "name": "python3"
    },
    "language_info": {
      "codemirror_mode": {
        "name": "ipython",
        "version": 3
      },
      "file_extension": ".py",
      "mimetype": "text/x-python",
      "name": "python",
      "nbconvert_exporter": "python",
      "pygments_lexer": "ipython3",
      "version": "3.8.10"
    },
    "colab": {
      "provenance": [],
      "include_colab_link": true
    }
  },
  "nbformat": 4,
  "nbformat_minor": 0
}