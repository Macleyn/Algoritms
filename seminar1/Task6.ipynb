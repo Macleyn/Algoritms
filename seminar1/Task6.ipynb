{
  "cells": [
    {
      "cell_type": "markdown",
      "metadata": {
        "id": "view-in-github",
        "colab_type": "text"
      },
      "source": [
        "<a href=\"https://colab.research.google.com/github/Macleyn/Algoritms/blob/main/seminar1/Task6.ipynb\" target=\"_parent\"><img src=\"https://colab.research.google.com/assets/colab-badge.svg\" alt=\"Open In Colab\"/></a>"
      ]
    },
    {
      "cell_type": "code",
      "source": [
        "import unittest\n",
        "\n",
        "def sort_binary_array(arr):\n",
        "    left = 0\n",
        "    right = len(arr) - 1\n",
        "    while left < right:\n",
        "        if arr[left] == 0:\n",
        "            left += 1\n",
        "        elif arr[right] == 1:\n",
        "            right -= 1\n",
        "        else:\n",
        "            arr[left], arr[right] = arr[right], arr[left]\n",
        "            left += 1\n",
        "            right -= 1\n",
        "    return arr\n",
        "\n",
        "class TestSortBinaryArray(unittest.TestCase):\n",
        "\n",
        "    def test_already_sorted(self):\n",
        "        arr = [0, 0, 1, 1]\n",
        "        result = sort_binary_array(arr)\n",
        "        self.assertEqual(result, [0, 0, 1, 1])\n",
        "\n",
        "    def test_reverse_sorted(self):\n",
        "        arr = [1, 1, 0, 0]\n",
        "        result = sort_binary_array(arr)\n",
        "        self.assertEqual(result, [0, 0, 1, 1])\n",
        "\n",
        "    def test_mixed_order(self):\n",
        "        arr = [0, 1, 0, 1, 0, 1]\n",
        "        result = sort_binary_array(arr)\n",
        "        self.assertEqual(result, [0, 0, 0, 1, 1, 1])\n",
        "\n",
        "    def test_all_zeros(self):\n",
        "        arr = [0, 0, 0]\n",
        "        result = sort_binary_array(arr)\n",
        "        self.assertEqual(result, [0, 0, 0])\n",
        "\n",
        "    def test_all_ones(self):\n",
        "        arr = [1, 1, 1]\n",
        "        result = sort_binary_array(arr)\n",
        "        self.assertEqual(result, [1, 1, 1])\n",
        "\n",
        "    def test_single_element(self):\n",
        "        arr = [0]\n",
        "        result = sort_binary_array(arr)\n",
        "        self.assertEqual(result, [0])\n",
        "\n",
        "    def test_empty_array(self):\n",
        "        arr = []\n",
        "        result = sort_binary_array(arr)\n",
        "        self.assertEqual(result, [])\n",
        "\n",
        "    def test_large_array(self):\n",
        "        arr = [1, 0, 1, 0, 1, 0, 1, 0, 1, 0]\n",
        "        result = sort_binary_array(arr)\n",
        "        self.assertEqual(result, [0, 0, 0, 0, 0, 1, 1, 1, 1, 1])\n",
        "\n",
        "if __name__ == '__main__':\n",
        "    unittest.main(argv=[''], exit=False)"
      ],
      "metadata": {
        "colab": {
          "base_uri": "https://localhost:8080/"
        },
        "id": "ctpcVoMlPjES",
        "outputId": "577862fd-1d2f-4a92-ed25-79b0cc41a433"
      },
      "execution_count": 4,
      "outputs": [
        {
          "output_type": "stream",
          "name": "stderr",
          "text": [
            ".......................\n",
            "----------------------------------------------------------------------\n",
            "Ran 23 tests in 0.023s\n",
            "\n",
            "OK\n"
          ]
        }
      ]
    }
  ],
  "metadata": {
    "kernelspec": {
      "display_name": "Python 3 (ipykernel)",
      "language": "python",
      "name": "python3"
    },
    "language_info": {
      "codemirror_mode": {
        "name": "ipython",
        "version": 3
      },
      "file_extension": ".py",
      "mimetype": "text/x-python",
      "name": "python",
      "nbconvert_exporter": "python",
      "pygments_lexer": "ipython3",
      "version": "3.8.10"
    },
    "colab": {
      "provenance": [],
      "include_colab_link": true
    }
  },
  "nbformat": 4,
  "nbformat_minor": 0
}