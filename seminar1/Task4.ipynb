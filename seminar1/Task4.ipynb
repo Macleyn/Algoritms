{
  "cells": [
    {
      "cell_type": "markdown",
      "metadata": {
        "id": "view-in-github",
        "colab_type": "text"
      },
      "source": [
        "<a href=\"https://colab.research.google.com/github/Macleyn/Algoritms/blob/main/seminar1/Task4.ipynb\" target=\"_parent\"><img src=\"https://colab.research.google.com/assets/colab-badge.svg\" alt=\"Open In Colab\"/></a>"
      ]
    },
    {
      "cell_type": "code",
      "source": [
        "import unittest\n",
        "\n",
        "def translation(array, k):\n",
        "  k = k % len(array)\n",
        "  return array[-k:] + array[:-k]\n",
        "\n",
        "class TestTranslation(unittest.TestCase):\n",
        "\n",
        "    def test_single_element_array(self):\n",
        "        self.assertEqual(translation([1], 1), [1])\n",
        "\n",
        "    def test_k_equals_zero(self):\n",
        "        self.assertEqual(translation([1, 2, 3, 4], 0), [1, 2, 3, 4])\n",
        "\n",
        "    def test_k_equals_length(self):\n",
        "        self.assertEqual(translation([1, 2, 3, 4], 4), [1, 2, 3, 4])\n",
        "\n",
        "    def test_k_in_middle(self):\n",
        "        self.assertEqual(translation([1, 2, 3, 4, 5, 6, 7], 3), [5, 6, 7, 1, 2, 3, 4])\n",
        "\n",
        "    def test_k_greater_than_length(self):\n",
        "        self.assertEqual(translation([1, 2, 3], 5), [2, 3, 1])\n",
        "\n",
        "    def test_k_negative(self):\n",
        "        self.assertEqual(translation([1, 2, 3], -1), [2, 3, 1])\n",
        "\n",
        "    def test_array_with_strings(self):\n",
        "        self.assertEqual(translation(['a', 'b', 'c', 'd'], 2), ['c', 'd', 'a', 'b'])\n",
        "\n",
        "    def test_array_with_mixed_types(self):\n",
        "        self.assertEqual(translation([1, 'a', 2, 'b'], 2), [2, 'b', 1, 'a'])\n",
        "\n",
        "if __name__ == '__main__':\n",
        "    unittest.main(argv=[''], exit=False)"
      ],
      "metadata": {
        "colab": {
          "base_uri": "https://localhost:8080/"
        },
        "id": "ctpcVoMlPjES",
        "outputId": "c65c4b66-89d5-4b14-cc14-2c08627b6bfe"
      },
      "execution_count": 1,
      "outputs": [
        {
          "output_type": "stream",
          "name": "stderr",
          "text": [
            "........\n",
            "----------------------------------------------------------------------\n",
            "Ran 8 tests in 0.050s\n",
            "\n",
            "OK\n"
          ]
        }
      ]
    }
  ],
  "metadata": {
    "kernelspec": {
      "display_name": "Python 3 (ipykernel)",
      "language": "python",
      "name": "python3"
    },
    "language_info": {
      "codemirror_mode": {
        "name": "ipython",
        "version": 3
      },
      "file_extension": ".py",
      "mimetype": "text/x-python",
      "name": "python",
      "nbconvert_exporter": "python",
      "pygments_lexer": "ipython3",
      "version": "3.8.10"
    },
    "colab": {
      "provenance": [],
      "include_colab_link": true
    }
  },
  "nbformat": 4,
  "nbformat_minor": 0
}