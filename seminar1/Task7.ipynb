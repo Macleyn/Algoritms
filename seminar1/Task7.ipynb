{
  "cells": [
    {
      "cell_type": "markdown",
      "metadata": {
        "id": "view-in-github",
        "colab_type": "text"
      },
      "source": [
        "<a href=\"https://colab.research.google.com/github/Macleyn/Algoritms/blob/main/seminar1/Task7.ipynb\" target=\"_parent\"><img src=\"https://colab.research.google.com/assets/colab-badge.svg\" alt=\"Open In Colab\"/></a>"
      ]
    },
    {
      "cell_type": "code",
      "source": [
        "import unittest\n",
        "\n",
        "def sortColors(nums):\n",
        "    low = 0\n",
        "    mid = 0\n",
        "    high = len(nums) - 1\n",
        "    while mid <= high:\n",
        "        if nums[mid] == 2:\n",
        "            nums[mid], nums[high] = nums[high], nums[mid]\n",
        "            high -= 1\n",
        "        elif nums[mid] == 0:\n",
        "            nums[mid], nums[low] = nums[low], nums[mid]\n",
        "            low += 1\n",
        "            mid += 1\n",
        "        else:\n",
        "            mid += 1\n",
        "    return nums\n",
        "\n",
        "class TestSortColors(unittest.TestCase):\n",
        "\n",
        "    def test_already_sorted(self):\n",
        "        self.assertEqual(sortColors([0, 1, 2]), [0, 1, 2])\n",
        "\n",
        "    def test_reverse_sorted(self):\n",
        "        self.assertEqual(sortColors([2, 1, 0]), [0, 1, 2])\n",
        "\n",
        "    def test_duplicate_elements(self):\n",
        "        self.assertEqual(sortColors([2, 0, 2, 1, 1, 0]), [0, 0, 1, 1, 2, 2])\n",
        "\n",
        "    def test_single_element(self):\n",
        "        self.assertEqual(sortColors([1]), [1])\n",
        "\n",
        "    def test_empty_array(self):\n",
        "        self.assertEqual(sortColors([]), [])\n",
        "\n",
        "    def test_all_same_elements(self):\n",
        "        self.assertEqual(sortColors([1, 1, 1]), [1, 1, 1])\n",
        "\n",
        "    def test_two_elements(self):\n",
        "        self.assertEqual(sortColors([2, 0]), [0, 2])\n",
        "\n",
        "    def test_mixed_elements(self):\n",
        "        self.assertEqual(sortColors([1, 0, 2, 1, 0]), [0, 0, 1, 1, 2])\n",
        "\n",
        "    def test_all_zeros(self):\n",
        "        self.assertEqual(sortColors([0, 0, 0]), [0, 0, 0])\n",
        "\n",
        "    def test_all_twos(self):\n",
        "        self.assertEqual(sortColors([2, 2, 2]), [2, 2, 2])\n",
        "\n",
        "if __name__ == '__main__':\n",
        "    unittest.main(argv=[''], exit=False)"
      ],
      "metadata": {
        "colab": {
          "base_uri": "https://localhost:8080/"
        },
        "id": "ctpcVoMlPjES",
        "outputId": "7b5d3a0c-0b7f-485b-ea40-5a6c1f03da4f"
      },
      "execution_count": null,
      "outputs": [
        {
          "output_type": "stream",
          "name": "stderr",
          "text": [
            "..................\n",
            "----------------------------------------------------------------------\n",
            "Ran 18 tests in 0.018s\n",
            "\n",
            "OK\n"
          ]
        }
      ]
    }
  ],
  "metadata": {
    "kernelspec": {
      "display_name": "Python 3 (ipykernel)",
      "language": "python",
      "name": "python3"
    },
    "language_info": {
      "codemirror_mode": {
        "name": "ipython",
        "version": 3
      },
      "file_extension": ".py",
      "mimetype": "text/x-python",
      "name": "python",
      "nbconvert_exporter": "python",
      "pygments_lexer": "ipython3",
      "version": "3.8.10"
    },
    "colab": {
      "provenance": [],
      "include_colab_link": true
    }
  },
  "nbformat": 4,
  "nbformat_minor": 0
}