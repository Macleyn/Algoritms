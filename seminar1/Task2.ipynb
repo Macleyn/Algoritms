{
  "cells": [
    {
      "cell_type": "markdown",
      "metadata": {
        "id": "view-in-github",
        "colab_type": "text"
      },
      "source": [
        "<a href=\"https://colab.research.google.com/github/Macleyn/Algoritms/blob/main/seminar1/Task2.ipynb\" target=\"_parent\"><img src=\"https://colab.research.google.com/assets/colab-badge.svg\" alt=\"Open In Colab\"/></a>"
      ]
    },
    {
      "cell_type": "code",
      "source": [
        "import unittest\n",
        "\n",
        "def two_sum(array, target):\n",
        "    left, right = 0, len(array) - 1\n",
        "    while left < right:\n",
        "        sum = array[left] + array[right]\n",
        "        if sum == target:\n",
        "            return [left, right]\n",
        "        if sum > target:\n",
        "            right -= 1\n",
        "        if sum < target:\n",
        "            left += 1\n",
        "    return [-1, -1]\n",
        "\n",
        "class TestTwoSum(unittest.TestCase):\n",
        "\n",
        "    def test_basic_case(self):\n",
        "        array = [2, 7, 11, 15]\n",
        "        target = 9\n",
        "        self.assertEqual(two_sum(array, target), [0, 1])\n",
        "\n",
        "    def test_multiple_numbers(self):\n",
        "        array = [1, 2, 3, 4, 6]\n",
        "        target = 6\n",
        "        self.assertEqual(two_sum(array, target), [1, 3])\n",
        "\n",
        "    def test_negative_numbers(self):\n",
        "        array = [-3, -1, 0, 2, 5]\n",
        "        target = -1\n",
        "        self.assertEqual(two_sum(array, target), [0, 3])\n",
        "\n",
        "    def test_duplicates(self):\n",
        "        array = [1, 2, 2, 3, 4]\n",
        "        target = 4\n",
        "        self.assertEqual(two_sum(array, target), [0, 3])\n",
        "\n",
        "    def test_large_array(self):\n",
        "        array = list(range(1, 10001))\n",
        "        target = 19999\n",
        "        self.assertEqual(two_sum(array, target), [9998, 9999])\n",
        "\n",
        "    def test_no_solution(self):\n",
        "        array = [1, 2, 3, 4]\n",
        "        target = 10\n",
        "        self.assertEqual(two_sum(array, target), [-1, -1])\n",
        "\n",
        "    def test_single_element(self):\n",
        "        array = [5]\n",
        "        target = 5\n",
        "        self.assertEqual(two_sum(array, target), [-1, -1])\n",
        "\n",
        "    def test_empty_array(self):\n",
        "        array = []\n",
        "        target = 0\n",
        "        self.assertEqual(two_sum(array, target), [-1, -1])\n",
        "\n",
        "if __name__ == '__main__':\n",
        "    unittest.main(argv=[''], exit=False)"
      ],
      "metadata": {
        "colab": {
          "base_uri": "https://localhost:8080/"
        },
        "id": "ctpcVoMlPjES",
        "outputId": "52d3c78c-63b1-4bdc-e38f-391cefdf5b46"
      },
      "execution_count": 4,
      "outputs": [
        {
          "output_type": "stream",
          "name": "stderr",
          "text": [
            ".......................\n",
            "----------------------------------------------------------------------\n",
            "Ran 23 tests in 0.025s\n",
            "\n",
            "OK\n"
          ]
        }
      ]
    }
  ],
  "metadata": {
    "kernelspec": {
      "display_name": "Python 3 (ipykernel)",
      "language": "python",
      "name": "python3"
    },
    "language_info": {
      "codemirror_mode": {
        "name": "ipython",
        "version": 3
      },
      "file_extension": ".py",
      "mimetype": "text/x-python",
      "name": "python",
      "nbconvert_exporter": "python",
      "pygments_lexer": "ipython3",
      "version": "3.8.10"
    },
    "colab": {
      "provenance": [],
      "include_colab_link": true
    }
  },
  "nbformat": 4,
  "nbformat_minor": 0
}