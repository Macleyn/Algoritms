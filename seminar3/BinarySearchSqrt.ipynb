{
  "nbformat": 4,
  "nbformat_minor": 0,
  "metadata": {
    "colab": {
      "provenance": [],
      "collapsed_sections": [
        "OUkKho9aRObV",
        "yQp6azYJR1lY",
        "6jttkL_wUi-K",
        "Afs-29vQjPYi",
        "a0s-GFUZqqBq",
        "bXDyAdHXqAvZ",
        "YXMt0FIUxqZD",
        "J-sS1Azczd7D",
        "b0Pc8hcozl7u",
        "52oQ_Dxb02sa",
        "k66nXMPW02kN",
        "UcKAsDMt02bN",
        "c4ZrKXzx02SH",
        "mSsJBWxXoqHH",
        "1w9dQyXgIpX9",
        "V8200y0_Kt0W"
      ],
      "include_colab_link": true
    },
    "kernelspec": {
      "name": "python3",
      "display_name": "Python 3"
    },
    "language_info": {
      "name": "python"
    }
  },
  "cells": [
    {
      "cell_type": "markdown",
      "metadata": {
        "id": "view-in-github",
        "colab_type": "text"
      },
      "source": [
        "<a href=\"https://colab.research.google.com/github/Macleyn/Algoritms/blob/main/seminar3/BinarySearchSqrt.ipynb\" target=\"_parent\"><img src=\"https://colab.research.google.com/assets/colab-badge.svg\" alt=\"Open In Colab\"/></a>"
      ]
    },
    {
      "cell_type": "code",
      "source": [
        "def BinarySearchSqrt(target):\n",
        "  l, r = 0, target\n",
        "  while l <= r:\n",
        "    middle = l + (r - l)//2\n",
        "    if middle * middle == target:\n",
        "      return middle\n",
        "    elif middle * middle > target:\n",
        "      r = middle - 1\n",
        "    else:\n",
        "      l = middle + 1\n",
        "  return r"
      ],
      "metadata": {
        "id": "ty9lxPbrQaS1"
      },
      "execution_count": 13,
      "outputs": []
    }
  ]
}