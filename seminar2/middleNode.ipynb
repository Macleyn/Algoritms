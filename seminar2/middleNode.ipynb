{
  "cells": [
    {
      "cell_type": "markdown",
      "metadata": {
        "id": "view-in-github",
        "colab_type": "text"
      },
      "source": [
        "<a href=\"https://colab.research.google.com/github/Macleyn/Algoritms/blob/main/seminar2/middleNode.ipynb\" target=\"_parent\"><img src=\"https://colab.research.google.com/assets/colab-badge.svg\" alt=\"Open In Colab\"/></a>"
      ]
    },
    {
      "cell_type": "code",
      "source": [
        "import unittest\n",
        "\n",
        "class ListNode:\n",
        "    def __init__(self, value=0, next=None):\n",
        "        self.value = value\n",
        "        self.next = next\n",
        "\n",
        "def middleNode(head):\n",
        "    slow = head\n",
        "    fast = head\n",
        "    while fast and fast.next:\n",
        "        slow = slow.next\n",
        "        fast = fast.next.next\n",
        "    return slow\n",
        "\n",
        "def create_linked_list(values):\n",
        "    if not values:\n",
        "        return None\n",
        "    head = ListNode(values[0])\n",
        "    current = head\n",
        "    for value in values[1:]:\n",
        "        current.next = ListNode(value)\n",
        "        current = current.next\n",
        "    return head\n",
        "\n",
        "def linked_list_to_list(head):\n",
        "    result = []\n",
        "    current = head\n",
        "    while current:\n",
        "        result.append(current.value)\n",
        "        current = current.next\n",
        "    return result\n",
        "\n",
        "class TestMiddleNode(unittest.TestCase):\n",
        "\n",
        "    def test_empty_list(self):\n",
        "        self.assertIsNone(middleNode(None))\n",
        "\n",
        "    def test_single_node(self):\n",
        "        head = ListNode(1)\n",
        "        middle = middleNode(head)\n",
        "        self.assertEqual(middle.value, 1)\n",
        "\n",
        "    def test_odd_length_list(self):\n",
        "        head = create_linked_list([1, 2, 3])\n",
        "        middle = middleNode(head)\n",
        "        self.assertEqual(middle.value, 2)\n",
        "\n",
        "    def test_even_length_list(self):\n",
        "        head = create_linked_list([1, 2, 3, 4])\n",
        "        middle = middleNode(head)\n",
        "        self.assertEqual(middle.value, 3)\n",
        "\n",
        "    def test_large_odd_length_list(self):\n",
        "        head = create_linked_list([1, 2, 3, 4, 5])\n",
        "        middle = middleNode(head)\n",
        "        self.assertEqual(middle.value, 3)\n",
        "\n",
        "    def test_large_even_length_list(self):\n",
        "        head = create_linked_list([1, 2, 3, 4, 5, 6])\n",
        "        middle = middleNode(head)\n",
        "        self.assertEqual(middle.value, 4)\n",
        "\n",
        "if __name__ == '__main__':\n",
        "    unittest.main(argv=['first-arg-is-ignored'], exit=False)"
      ],
      "metadata": {
        "colab": {
          "base_uri": "https://localhost:8080/"
        },
        "id": "HElN4elzR1U9",
        "outputId": "ee9b9db0-50d5-4c95-e882-8bb3018a446f"
      },
      "execution_count": 30,
      "outputs": [
        {
          "output_type": "stream",
          "name": "stderr",
          "text": [
            "................\n",
            "----------------------------------------------------------------------\n",
            "Ran 16 tests in 0.015s\n",
            "\n",
            "OK\n"
          ]
        }
      ]
    }
  ],
  "metadata": {
    "kernelspec": {
      "display_name": "Python 3 (ipykernel)",
      "language": "python",
      "name": "python3"
    },
    "language_info": {
      "codemirror_mode": {
        "name": "ipython",
        "version": 3
      },
      "file_extension": ".py",
      "mimetype": "text/x-python",
      "name": "python",
      "nbconvert_exporter": "python",
      "pygments_lexer": "ipython3",
      "version": "3.8.10"
    },
    "colab": {
      "provenance": [],
      "include_colab_link": true
    }
  },
  "nbformat": 4,
  "nbformat_minor": 0
}