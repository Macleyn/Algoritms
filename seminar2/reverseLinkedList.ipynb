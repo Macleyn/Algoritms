{
  "cells": [
    {
      "cell_type": "markdown",
      "metadata": {
        "id": "view-in-github",
        "colab_type": "text"
      },
      "source": [
        "<a href=\"https://colab.research.google.com/github/Macleyn/Algoritms/blob/main/seminar2/reverseLinkedList.ipynb\" target=\"_parent\"><img src=\"https://colab.research.google.com/assets/colab-badge.svg\" alt=\"Open In Colab\"/></a>"
      ]
    },
    {
      "cell_type": "code",
      "source": [
        "import unittest\n",
        "\n",
        "class ListNode:\n",
        "    def __init__(self, value=0, next=None):\n",
        "        self.value = value\n",
        "        self.next = next\n",
        "\n",
        "def reverseLinkedList(head):\n",
        "    prev = None\n",
        "    current = head\n",
        "    while current:\n",
        "        current.next, current, prev = prev, current.next, current\n",
        "    head = prev\n",
        "    return head\n",
        "\n",
        "def create_linked_list(values):\n",
        "    if not values:\n",
        "        return None\n",
        "    head = ListNode(values[0])\n",
        "    current = head\n",
        "    for value in values[1:]:\n",
        "        current.next = ListNode(value)\n",
        "        current = current.next\n",
        "    return head\n",
        "\n",
        "def linked_list_to_list(head):\n",
        "    result = []\n",
        "    current = head\n",
        "    while current:\n",
        "        result.append(current.value)\n",
        "        current = current.next\n",
        "    return result\n",
        "\n",
        "class TestReverseLinkedList(unittest.TestCase):\n",
        "\n",
        "    def test_empty_list(self):\n",
        "        self.assertIsNone(reverseLinkedList(None))\n",
        "\n",
        "    def test_single_node(self):\n",
        "        head = ListNode(1)\n",
        "        reversed_head = reverseLinkedList(head)\n",
        "        self.assertEqual(linked_list_to_list(reversed_head), [1])\n",
        "\n",
        "    def test_multiple_nodes(self):\n",
        "        head = create_linked_list([1, 2, 3])\n",
        "        reversed_head = reverseLinkedList(head)\n",
        "        self.assertEqual(linked_list_to_list(reversed_head), [3, 2, 1])\n",
        "\n",
        "    def test_two_nodes(self):\n",
        "        head = create_linked_list([1, 2])\n",
        "        reversed_head = reverseLinkedList(head)\n",
        "        self.assertEqual(linked_list_to_list(reversed_head), [2, 1])\n",
        "\n",
        "    def test_large_list(self):\n",
        "        head = create_linked_list([1, 2, 3, 4, 5])\n",
        "        reversed_head = reverseLinkedList(head)\n",
        "        self.assertEqual(linked_list_to_list(reversed_head), [5, 4, 3, 2, 1])\n",
        "\n",
        "if __name__ == '__main__':\n",
        "    unittest.main(argv=['first-arg-is-ignored'], exit=False)"
      ],
      "metadata": {
        "colab": {
          "base_uri": "https://localhost:8080/"
        },
        "id": "2NM99DD-J0cF",
        "outputId": "b8a12ef8-8e8c-4b08-94b3-5ea860cb7124"
      },
      "execution_count": 28,
      "outputs": [
        {
          "output_type": "stream",
          "name": "stderr",
          "text": [
            "..........\n",
            "----------------------------------------------------------------------\n",
            "Ran 10 tests in 0.009s\n",
            "\n",
            "OK\n"
          ]
        }
      ]
    }
  ],
  "metadata": {
    "kernelspec": {
      "display_name": "Python 3 (ipykernel)",
      "language": "python",
      "name": "python3"
    },
    "language_info": {
      "codemirror_mode": {
        "name": "ipython",
        "version": 3
      },
      "file_extension": ".py",
      "mimetype": "text/x-python",
      "name": "python",
      "nbconvert_exporter": "python",
      "pygments_lexer": "ipython3",
      "version": "3.8.10"
    },
    "colab": {
      "provenance": [],
      "include_colab_link": true
    }
  },
  "nbformat": 4,
  "nbformat_minor": 0
}