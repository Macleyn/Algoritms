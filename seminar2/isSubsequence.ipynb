{
  "cells": [
    {
      "cell_type": "markdown",
      "metadata": {
        "id": "view-in-github",
        "colab_type": "text"
      },
      "source": [
        "<a href=\"https://colab.research.google.com/github/Macleyn/Algoritms/blob/main/seminar2/isSubsequence.ipynb\" target=\"_parent\"><img src=\"https://colab.research.google.com/assets/colab-badge.svg\" alt=\"Open In Colab\"/></a>"
      ]
    },
    {
      "cell_type": "code",
      "source": [
        "import unittest\n",
        "\n",
        "class Queue:\n",
        "    def __init__(self):\n",
        "        self.items = []\n",
        "\n",
        "    def push(self, item):\n",
        "        self.items.append(item)\n",
        "\n",
        "    def pop(self):\n",
        "        return self.items.pop(0)\n",
        "\n",
        "    def peek(self):\n",
        "        return self.items[0]\n",
        "\n",
        "    def size(self):\n",
        "        return len(self.items)\n",
        "\n",
        "def isSubsequence(a, b):\n",
        "    q = Queue()\n",
        "    for el in a:\n",
        "        q.push(el)\n",
        "    for el in b:\n",
        "        if q.size() > 0 and q.peek() == el:\n",
        "            q.pop()\n",
        "    return q.size() == 0\n",
        "\n",
        "class TestIsSubsequence(unittest.TestCase):\n",
        "\n",
        "    def test_empty_a_and_b(self):\n",
        "        self.assertTrue(isSubsequence(\"\", \"\"))\n",
        "\n",
        "    def test_empty_a(self):\n",
        "        self.assertTrue(isSubsequence(\"\", \"abc\"))\n",
        "\n",
        "    def test_empty_b(self):\n",
        "        self.assertFalse(isSubsequence(\"abc\", \"\"))\n",
        "\n",
        "    def test_a_is_subsequence_of_b(self):\n",
        "        self.assertTrue(isSubsequence(\"abc\", \"ahbgdc\"))\n",
        "\n",
        "    def test_a_is_not_subsequence_of_b(self):\n",
        "        self.assertFalse(isSubsequence(\"axc\", \"ahbgdc\"))\n",
        "\n",
        "    def test_a_longer_than_b(self):\n",
        "        self.assertFalse(isSubsequence(\"abcdef\", \"abc\"))\n",
        "\n",
        "    def test_a_equals_b(self):\n",
        "        self.assertTrue(isSubsequence(\"abc\", \"abc\"))\n",
        "\n",
        "    def test_partial_match(self):\n",
        "        self.assertFalse(isSubsequence(\"abc\", \"acb\"))\n",
        "\n",
        "    def test_repeated_characters(self):\n",
        "        self.assertTrue(isSubsequence(\"aabbcc\", \"aaabbbccc\"))\n",
        "\n",
        "    def test_no_common_characters(self):\n",
        "        self.assertFalse(isSubsequence(\"xyz\", \"abc\"))\n",
        "\n",
        "if __name__ == '__main__':\n",
        "    unittest.main(argv=['first-arg-is-ignored'], exit=False)"
      ],
      "metadata": {
        "colab": {
          "base_uri": "https://localhost:8080/"
        },
        "id": "pwJ1t6EvYgwK",
        "outputId": "fd2479f0-a327-456d-a7d2-97b0044cbc98"
      },
      "execution_count": 38,
      "outputs": [
        {
          "output_type": "stream",
          "name": "stderr",
          "text": [
            ".................................\n",
            "----------------------------------------------------------------------\n",
            "Ran 33 tests in 0.023s\n",
            "\n",
            "OK\n"
          ]
        }
      ]
    }
  ],
  "metadata": {
    "kernelspec": {
      "display_name": "Python 3 (ipykernel)",
      "language": "python",
      "name": "python3"
    },
    "language_info": {
      "codemirror_mode": {
        "name": "ipython",
        "version": 3
      },
      "file_extension": ".py",
      "mimetype": "text/x-python",
      "name": "python",
      "nbconvert_exporter": "python",
      "pygments_lexer": "ipython3",
      "version": "3.8.10"
    },
    "colab": {
      "provenance": [],
      "include_colab_link": true
    }
  },
  "nbformat": 4,
  "nbformat_minor": 0
}