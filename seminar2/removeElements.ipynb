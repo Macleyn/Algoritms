{
  "cells": [
    {
      "cell_type": "markdown",
      "metadata": {
        "id": "view-in-github",
        "colab_type": "text"
      },
      "source": [
        "<a href=\"https://colab.research.google.com/github/Macleyn/Algoritms/blob/main/seminar2/removeElements.ipynb\" target=\"_parent\"><img src=\"https://colab.research.google.com/assets/colab-badge.svg\" alt=\"Open In Colab\"/></a>"
      ]
    },
    {
      "cell_type": "code",
      "source": [
        "import unittest\n",
        "\n",
        "class ListNode:\n",
        "    def __init__(self, value=0, next=None):\n",
        "        self.value = value\n",
        "        self.next = next\n",
        "\n",
        "def removeElements(head, val):\n",
        "    dummy = ListNode()\n",
        "    dummy.next = head\n",
        "    prev = dummy\n",
        "    cur = head\n",
        "    while cur:\n",
        "        if cur.value == val:\n",
        "            prev.next = cur.next\n",
        "        else:\n",
        "            prev = cur\n",
        "        cur = cur.next\n",
        "    return dummy.next\n",
        "\n",
        "def create_linked_list(values):\n",
        "    if not values:\n",
        "        return None\n",
        "    head = ListNode(values[0])\n",
        "    current = head\n",
        "    for value in values[1:]:\n",
        "        current.next = ListNode(value)\n",
        "        current = current.next\n",
        "    return head\n",
        "\n",
        "def linked_list_to_list(head):\n",
        "    result = []\n",
        "    current = head\n",
        "    while current:\n",
        "        result.append(current.value)\n",
        "        current = current.next\n",
        "    return result\n",
        "\n",
        "class TestRemoveElements(unittest.TestCase):\n",
        "\n",
        "    def test_empty_list(self):\n",
        "        self.assertIsNone(removeElements(None, 1))\n",
        "\n",
        "    def test_no_removal(self):\n",
        "        head = create_linked_list([1, 2, 3])\n",
        "        result = removeElements(head, 4)\n",
        "        self.assertEqual(linked_list_to_list(result), [1, 2, 3])\n",
        "\n",
        "    def test_remove_all_elements(self):\n",
        "        head = create_linked_list([2, 2, 2])\n",
        "        result = removeElements(head, 2)\n",
        "        self.assertIsNone(result)\n",
        "\n",
        "    def test_remove_from_middle(self):\n",
        "        head = create_linked_list([1, 2, 3, 2, 4])\n",
        "        result = removeElements(head, 2)\n",
        "        self.assertEqual(linked_list_to_list(result), [1, 3, 4])\n",
        "\n",
        "    def test_remove_from_beginning(self):\n",
        "        head = create_linked_list([2, 1, 3, 4])\n",
        "        result = removeElements(head, 2)\n",
        "        self.assertEqual(linked_list_to_list(result), [1, 3, 4])\n",
        "\n",
        "    def test_remove_from_end(self):\n",
        "        head = create_linked_list([1, 3, 4, 2])\n",
        "        result = removeElements(head, 2)\n",
        "        self.assertEqual(linked_list_to_list(result), [1, 3, 4])\n",
        "\n",
        "    def test_remove_multiple_occurrences(self):\n",
        "        head = create_linked_list([1, 2, 2, 3, 2])\n",
        "        result = removeElements(head, 2)\n",
        "        self.assertEqual(linked_list_to_list(result), [1, 3])\n",
        "\n",
        "if __name__ == '__main__':\n",
        "    unittest.main(argv=['first-arg-is-ignored'], exit=False)"
      ],
      "metadata": {
        "colab": {
          "base_uri": "https://localhost:8080/"
        },
        "id": "pwJ1t6EvYgwK",
        "outputId": "0477132a-e7e9-426f-b648-081600a92524"
      },
      "execution_count": 33,
      "outputs": [
        {
          "output_type": "stream",
          "name": "stderr",
          "text": [
            ".......................\n",
            "----------------------------------------------------------------------\n",
            "Ran 23 tests in 0.019s\n",
            "\n",
            "OK\n"
          ]
        }
      ]
    }
  ],
  "metadata": {
    "kernelspec": {
      "display_name": "Python 3 (ipykernel)",
      "language": "python",
      "name": "python3"
    },
    "language_info": {
      "codemirror_mode": {
        "name": "ipython",
        "version": 3
      },
      "file_extension": ".py",
      "mimetype": "text/x-python",
      "name": "python",
      "nbconvert_exporter": "python",
      "pygments_lexer": "ipython3",
      "version": "3.8.10"
    },
    "colab": {
      "provenance": [],
      "include_colab_link": true
    }
  },
  "nbformat": 4,
  "nbformat_minor": 0
}