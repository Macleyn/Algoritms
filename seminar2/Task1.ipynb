{
  "cells": [
    {
      "cell_type": "markdown",
      "metadata": {
        "id": "view-in-github",
        "colab_type": "text"
      },
      "source": [
        "<a href=\"https://colab.research.google.com/github/Macleyn/Algoritms/blob/main/seminar2/Task1.ipynb\" target=\"_parent\"><img src=\"https://colab.research.google.com/assets/colab-badge.svg\" alt=\"Open In Colab\"/></a>"
      ]
    },
    {
      "cell_type": "code",
      "source": [
        "import unittest\n",
        "\n",
        "class ListNode:\n",
        "    def __init__(self, value=0, next=None):\n",
        "        self.value = value\n",
        "        self.next = next\n",
        "\n",
        "def hasCycle(head):\n",
        "    if not head or not head.next:\n",
        "        return False\n",
        "    slow = head\n",
        "    fast = head.next\n",
        "    while slow != fast:\n",
        "        if not fast or not fast.next:\n",
        "            return False\n",
        "        slow = slow.next\n",
        "        fast = fast.next.next\n",
        "    return True\n",
        "\n",
        "class TestHasCycle(unittest.TestCase):\n",
        "\n",
        "    def test_no_cycle(self):\n",
        "        node1 = ListNode(1)\n",
        "        node2 = ListNode(2)\n",
        "        node3 = ListNode(3)\n",
        "        node1.next = node2\n",
        "        node2.next = node3\n",
        "        self.assertFalse(hasCycle(node1))\n",
        "\n",
        "    def test_cycle_exists(self):\n",
        "        node1 = ListNode(1)\n",
        "        node2 = ListNode(2)\n",
        "        node3 = ListNode(3)\n",
        "        node1.next = node2\n",
        "        node2.next = node3\n",
        "        node3.next = node1\n",
        "        self.assertTrue(hasCycle(node1))\n",
        "\n",
        "    def test_single_node_no_cycle(self):\n",
        "        node1 = ListNode(1)\n",
        "        self.assertFalse(hasCycle(node1))\n",
        "\n",
        "    def test_single_node_cycle(self):\n",
        "        node1 = ListNode(1)\n",
        "        node1.next = node1\n",
        "        self.assertTrue(hasCycle(node1))\n",
        "\n",
        "    def test_empty_list(self):\n",
        "        self.assertFalse(hasCycle(None))\n",
        "\n",
        "if __name__ == '__main__':\n",
        "    unittest.main(argv=['first-arg-is-ignored'], exit=False)"
      ],
      "metadata": {
        "colab": {
          "base_uri": "https://localhost:8080/"
        },
        "id": "ctpcVoMlPjES",
        "outputId": "1d5b73be-9738-4856-8612-d5e77d6f1581"
      },
      "execution_count": 14,
      "outputs": [
        {
          "output_type": "stream",
          "name": "stderr",
          "text": [
            ".....\n",
            "----------------------------------------------------------------------\n",
            "Ran 5 tests in 0.007s\n",
            "\n",
            "OK\n"
          ]
        }
      ]
    }
  ],
  "metadata": {
    "kernelspec": {
      "display_name": "Python 3 (ipykernel)",
      "language": "python",
      "name": "python3"
    },
    "language_info": {
      "codemirror_mode": {
        "name": "ipython",
        "version": 3
      },
      "file_extension": ".py",
      "mimetype": "text/x-python",
      "name": "python",
      "nbconvert_exporter": "python",
      "pygments_lexer": "ipython3",
      "version": "3.8.10"
    },
    "colab": {
      "provenance": [],
      "include_colab_link": true
    }
  },
  "nbformat": 4,
  "nbformat_minor": 0
}