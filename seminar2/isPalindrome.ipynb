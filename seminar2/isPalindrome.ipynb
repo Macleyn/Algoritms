{
  "cells": [
    {
      "cell_type": "markdown",
      "metadata": {
        "id": "view-in-github",
        "colab_type": "text"
      },
      "source": [
        "<a href=\"https://colab.research.google.com/github/Macleyn/Algoritms/blob/main/seminar2/isPalindrome.ipynb\" target=\"_parent\"><img src=\"https://colab.research.google.com/assets/colab-badge.svg\" alt=\"Open In Colab\"/></a>"
      ]
    },
    {
      "cell_type": "code",
      "source": [
        "import unittest\n",
        "\n",
        "class Stack:\n",
        "    def __init__(self):\n",
        "        self.items = []\n",
        "\n",
        "    def is_empty(self):\n",
        "        return len(self.items) == 0\n",
        "\n",
        "    def push(self, item):\n",
        "        self.items.append(item)\n",
        "\n",
        "    def pop(self):\n",
        "        if self.is_empty():\n",
        "            raise IndexError(\"Стек пуст\")\n",
        "        return self.items.pop()\n",
        "\n",
        "    def peek(self):\n",
        "        if self.is_empty():\n",
        "            raise IndexError(\"Стек пуст\")\n",
        "        return self.items[-1]\n",
        "\n",
        "    def size(self):\n",
        "        return len(self.items)\n",
        "\n",
        "def isPalindrome(s):\n",
        "    stack = Stack()\n",
        "    for char in s:\n",
        "        stack.push(char)\n",
        "    for char in s:\n",
        "        if char != stack.pop():\n",
        "            return False\n",
        "    return True\n",
        "\n",
        "class TestIsPalindrome(unittest.TestCase):\n",
        "\n",
        "    def test_empty_string(self):\n",
        "        self.assertTrue(isPalindrome(\"\"))\n",
        "\n",
        "    def test_single_character(self):\n",
        "        self.assertTrue(isPalindrome(\"a\"))\n",
        "\n",
        "    def test_palindrome_even_length(self):\n",
        "        self.assertTrue(isPalindrome(\"abba\"))\n",
        "\n",
        "    def test_palindrome_odd_length(self):\n",
        "        self.assertTrue(isPalindrome(\"abcba\"))\n",
        "\n",
        "    def test_not_palindrome_even_length(self):\n",
        "        self.assertFalse(isPalindrome(\"abcd\"))\n",
        "\n",
        "    def test_not_palindrome_odd_length(self):\n",
        "        self.assertFalse(isPalindrome(\"abcde\"))\n",
        "\n",
        "    def test_not_palindrome_with_spaces(self):\n",
        "        self.assertFalse(isPalindrome(\"hello world\"))\n",
        "\n",
        "    def test_not_palindrome_with_special_characters(self):\n",
        "        self.assertFalse(isPalindrome(\"hello!\"))\n",
        "\n",
        "if __name__ == '__main__':\n",
        "    unittest.main(argv=['first-arg-is-ignored'], exit=False)"
      ],
      "metadata": {
        "colab": {
          "base_uri": "https://localhost:8080/"
        },
        "id": "pwJ1t6EvYgwK",
        "outputId": "64ed793b-0c99-40dd-e29f-f4191bc31d7a"
      },
      "execution_count": 57,
      "outputs": [
        {
          "output_type": "stream",
          "name": "stderr",
          "text": [
            ".........................................\n",
            "----------------------------------------------------------------------\n",
            "Ran 41 tests in 0.035s\n",
            "\n",
            "OK\n"
          ]
        }
      ]
    }
  ],
  "metadata": {
    "kernelspec": {
      "display_name": "Python 3 (ipykernel)",
      "language": "python",
      "name": "python3"
    },
    "language_info": {
      "codemirror_mode": {
        "name": "ipython",
        "version": 3
      },
      "file_extension": ".py",
      "mimetype": "text/x-python",
      "name": "python",
      "nbconvert_exporter": "python",
      "pygments_lexer": "ipython3",
      "version": "3.8.10"
    },
    "colab": {
      "provenance": [],
      "include_colab_link": true
    }
  },
  "nbformat": 4,
  "nbformat_minor": 0
}