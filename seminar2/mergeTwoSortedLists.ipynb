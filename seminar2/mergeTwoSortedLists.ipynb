{
  "cells": [
    {
      "cell_type": "markdown",
      "metadata": {
        "id": "view-in-github",
        "colab_type": "text"
      },
      "source": [
        "<a href=\"https://colab.research.google.com/github/Macleyn/Algoritms/blob/main/seminar2/mergeTwoSortedLists.ipynb\" target=\"_parent\"><img src=\"https://colab.research.google.com/assets/colab-badge.svg\" alt=\"Open In Colab\"/></a>"
      ]
    },
    {
      "cell_type": "code",
      "source": [
        "import unittest\n",
        "\n",
        "class ListNode:\n",
        "    def __init__(self, value=0, next=None):\n",
        "        self.value = value\n",
        "        self.next = next\n",
        "\n",
        "def mergeTwoSortedLists(head1, head2):\n",
        "    dummy = ListNode()\n",
        "    cur = dummy\n",
        "\n",
        "    while head1 and head2:\n",
        "        if head1.value >= head2.value:\n",
        "            cur.next = head2\n",
        "            head2 = head2.next\n",
        "        else:\n",
        "            cur.next = head1\n",
        "            head1 = head1.next\n",
        "        cur = cur.next\n",
        "\n",
        "    if head1:\n",
        "        cur.next = head1\n",
        "    else:\n",
        "        cur.next = head2\n",
        "\n",
        "    return dummy.next\n",
        "\n",
        "def create_linked_list(values):\n",
        "    if not values:\n",
        "        return None\n",
        "    head = ListNode(values[0])\n",
        "    current = head\n",
        "    for value in values[1:]:\n",
        "        current.next = ListNode(value)\n",
        "        current = current.next\n",
        "    return head\n",
        "\n",
        "def linked_list_to_list(head):\n",
        "    result = []\n",
        "    current = head\n",
        "    while current:\n",
        "        result.append(current.value)\n",
        "        current = current.next\n",
        "    return result\n",
        "\n",
        "class TestMergeTwoSortedLists(unittest.TestCase):\n",
        "\n",
        "    def test_both_lists_empty(self):\n",
        "        head1 = create_linked_list([])\n",
        "        head2 = create_linked_list([])\n",
        "        result = mergeTwoSortedLists(head1, head2)\n",
        "        self.assertEqual(linked_list_to_list(result), [])\n",
        "\n",
        "    def test_one_list_empty(self):\n",
        "        head1 = create_linked_list([])\n",
        "        head2 = create_linked_list([1, 2, 3])\n",
        "        result = mergeTwoSortedLists(head1, head2)\n",
        "        self.assertEqual(linked_list_to_list(result), [1, 2, 3])\n",
        "\n",
        "    def test_both_lists_non_empty(self):\n",
        "        head1 = create_linked_list([1, 3, 5])\n",
        "        head2 = create_linked_list([2, 4, 6])\n",
        "        result = mergeTwoSortedLists(head1, head2)\n",
        "        self.assertEqual(linked_list_to_list(result), [1, 2, 3, 4, 5, 6])\n",
        "\n",
        "    def test_lists_with_duplicates(self):\n",
        "        head1 = create_linked_list([1, 2, 4])\n",
        "        head2 = create_linked_list([1, 3, 4])\n",
        "        result = mergeTwoSortedLists(head1, head2)\n",
        "        self.assertEqual(linked_list_to_list(result), [1, 1, 2, 3, 4, 4])\n",
        "\n",
        "    def test_one_list_single_element(self):\n",
        "        head1 = create_linked_list([2])\n",
        "        head2 = create_linked_list([1, 3, 4])\n",
        "        result = mergeTwoSortedLists(head1, head2)\n",
        "        self.assertEqual(linked_list_to_list(result), [1, 2, 3, 4])\n",
        "\n",
        "    def test_lists_different_lengths(self):\n",
        "        head1 = create_linked_list([1, 5, 9])\n",
        "        head2 = create_linked_list([2, 3, 6, 7, 8])\n",
        "        result = mergeTwoSortedLists(head1, head2)\n",
        "        self.assertEqual(linked_list_to_list(result), [1, 2, 3, 5, 6, 7, 8, 9])\n",
        "\n",
        "    def test_lists_with_negative_numbers(self):\n",
        "        head1 = create_linked_list([-3, 0, 5])\n",
        "        head2 = create_linked_list([-2, 1, 4])\n",
        "        result = mergeTwoSortedLists(head1, head2)\n",
        "        self.assertEqual(linked_list_to_list(result), [-3, -2, 0, 1, 4, 5])\n",
        "\n",
        "if __name__ == '__main__':\n",
        "    unittest.main(argv=['first-arg-is-ignored'], exit=False)"
      ],
      "metadata": {
        "colab": {
          "base_uri": "https://localhost:8080/"
        },
        "id": "pwJ1t6EvYgwK",
        "outputId": "995c2de2-648e-4d0b-f87e-5e60a8ff7c7b"
      },
      "execution_count": 62,
      "outputs": [
        {
          "output_type": "stream",
          "name": "stderr",
          "text": [
            "................................................\n",
            "----------------------------------------------------------------------\n",
            "Ran 48 tests in 0.041s\n",
            "\n",
            "OK\n"
          ]
        }
      ]
    }
  ],
  "metadata": {
    "kernelspec": {
      "display_name": "Python 3 (ipykernel)",
      "language": "python",
      "name": "python3"
    },
    "language_info": {
      "codemirror_mode": {
        "name": "ipython",
        "version": 3
      },
      "file_extension": ".py",
      "mimetype": "text/x-python",
      "name": "python",
      "nbconvert_exporter": "python",
      "pygments_lexer": "ipython3",
      "version": "3.8.10"
    },
    "colab": {
      "provenance": [],
      "include_colab_link": true
    }
  },
  "nbformat": 4,
  "nbformat_minor": 0
}