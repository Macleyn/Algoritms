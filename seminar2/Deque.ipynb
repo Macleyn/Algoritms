{
  "cells": [
    {
      "cell_type": "markdown",
      "metadata": {
        "id": "view-in-github",
        "colab_type": "text"
      },
      "source": [
        "<a href=\"https://colab.research.google.com/github/Macleyn/Algoritms/blob/main/seminar2/Deque.ipynb\" target=\"_parent\"><img src=\"https://colab.research.google.com/assets/colab-badge.svg\" alt=\"Open In Colab\"/></a>"
      ]
    },
    {
      "cell_type": "code",
      "source": [
        "class Node:\n",
        "    def __init__(self, value):\n",
        "        self.value = value\n",
        "        self.next = None\n",
        "        self.prev = None\n",
        "\n",
        "class Deque:\n",
        "    def __init__(self):\n",
        "        self.head = None\n",
        "        self.tail = None\n",
        "        self.size = 0\n",
        "\n",
        "    def is_empty(self):\n",
        "        return self.size == 0\n",
        "\n",
        "    def push_front(self, value):\n",
        "        new_node = Node(value)\n",
        "        if self.is_empty():\n",
        "            self.head = new_node\n",
        "            self.tail = new_node\n",
        "        else:\n",
        "            new_node.next = self.head\n",
        "            self.head.prev = new_node\n",
        "            self.head = new_node\n",
        "        self.size += 1\n",
        "\n",
        "    def push_back(self, value):\n",
        "        new_node = Node(value)\n",
        "        if self.is_empty():\n",
        "            self.head = new_node\n",
        "            self.tail = new_node\n",
        "        else:\n",
        "            new_node.prev = self.tail\n",
        "            self.tail.next = new_node\n",
        "            self.tail = new_node\n",
        "        self.size += 1\n",
        "\n",
        "    def pop_front(self):\n",
        "        if self.is_empty():\n",
        "            raise IndexError(\"Дек пуст\")\n",
        "        value = self.head.value\n",
        "        if self.head == self.tail:\n",
        "            self.head = None\n",
        "            self.tail = None\n",
        "        else:\n",
        "            self.head = self.head.next\n",
        "            self.head.prev = None\n",
        "        self.size -= 1\n",
        "        return value\n",
        "\n",
        "    def pop_back(self):\n",
        "        if self.is_empty():\n",
        "            raise IndexError(\"Дек пуст\")\n",
        "        value = self.tail.value\n",
        "        if self.head == self.tail:\n",
        "            self.head = None\n",
        "            self.tail = None\n",
        "        else:\n",
        "            self.tail = self.tail.prev\n",
        "            self.tail.next = None\n",
        "        self.size -= 1\n",
        "        return value\n",
        "\n",
        "    def peek_front(self):\n",
        "        if self.is_empty():\n",
        "            raise IndexError(\"Дек пуст\")\n",
        "        return self.head.value\n",
        "\n",
        "    def peek_back(self):\n",
        "        if self.is_empty():\n",
        "            raise IndexError(\"Дек пуст\")\n",
        "        return self.tail.value"
      ],
      "metadata": {
        "id": "pwJ1t6EvYgwK"
      },
      "execution_count": 64,
      "outputs": []
    }
  ],
  "metadata": {
    "kernelspec": {
      "display_name": "Python 3 (ipykernel)",
      "language": "python",
      "name": "python3"
    },
    "language_info": {
      "codemirror_mode": {
        "name": "ipython",
        "version": 3
      },
      "file_extension": ".py",
      "mimetype": "text/x-python",
      "name": "python",
      "nbconvert_exporter": "python",
      "pygments_lexer": "ipython3",
      "version": "3.8.10"
    },
    "colab": {
      "provenance": [],
      "include_colab_link": true
    }
  },
  "nbformat": 4,
  "nbformat_minor": 0
}