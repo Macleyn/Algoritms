{
  "nbformat": 4,
  "nbformat_minor": 0,
  "metadata": {
    "colab": {
      "provenance": [],
      "collapsed_sections": [
        "OUkKho9aRObV",
        "yQp6azYJR1lY",
        "6jttkL_wUi-K",
        "Afs-29vQjPYi",
        "a0s-GFUZqqBq",
        "bXDyAdHXqAvZ",
        "YXMt0FIUxqZD",
        "J-sS1Azczd7D",
        "b0Pc8hcozl7u",
        "52oQ_Dxb02sa",
        "k66nXMPW02kN",
        "UcKAsDMt02bN",
        "c4ZrKXzx02SH",
        "mSsJBWxXoqHH",
        "1w9dQyXgIpX9",
        "V8200y0_Kt0W"
      ],
      "include_colab_link": true
    },
    "kernelspec": {
      "name": "python3",
      "display_name": "Python 3"
    },
    "language_info": {
      "name": "python"
    }
  },
  "cells": [
    {
      "cell_type": "markdown",
      "metadata": {
        "id": "view-in-github",
        "colab_type": "text"
      },
      "source": [
        "<a href=\"https://colab.research.google.com/github/Macleyn/Algoritms/blob/main/seminar3.ipynb\" target=\"_parent\"><img src=\"https://colab.research.google.com/assets/colab-badge.svg\" alt=\"Open In Colab\"/></a>"
      ]
    },
    {
      "cell_type": "markdown",
      "source": [
        "Найти корень числа (ближайшее целое)"
      ],
      "metadata": {
        "id": "5gSrPdvoZ13f"
      }
    },
    {
      "cell_type": "code",
      "source": [
        "def BinarySearchSqrt(target):\n",
        "  l, r = 0, target\n",
        "  while l <= r:\n",
        "    middle = l + (r - l)//2\n",
        "    if middle * middle == target:\n",
        "      return middle\n",
        "    elif middle * middle > target:\n",
        "      r = middle - 1\n",
        "    else:\n",
        "      l = middle + 1\n",
        "  return r"
      ],
      "metadata": {
        "id": "ty9lxPbrQaS1"
      },
      "execution_count": null,
      "outputs": []
    },
    {
      "cell_type": "markdown",
      "source": [
        "Как быстро можно сделать N копий документа, используя два ксерокса, каждый копирует со своей скоростью (x и y минут)?"
      ],
      "metadata": {
        "id": "3NdslnBuZ4F4"
      }
    },
    {
      "cell_type": "code",
      "source": [
        "def copyTime(n, x, y):\n",
        "    l, r = 0, (n - 1) * max(x, y)\n",
        "    while l + 1 < r:\n",
        "        middle = l + (r - l) // 2\n",
        "        if middle // x + middle // y < n - 1:\n",
        "            l = middle\n",
        "        else:\n",
        "            r = middle\n",
        "    return r + min(x, y)"
      ],
      "metadata": {
        "id": "_6AWJxmHZ9wa"
      },
      "execution_count": null,
      "outputs": []
    },
    {
      "cell_type": "markdown",
      "source": [
        "В небольшом зоопарке есть некоторое количество животных.\n",
        "Каждое животное потребляет какой-то объем еды, выраженный в целочисленном значении. Например, еноту нужна 1-порция еды, зебре 2, пантере 3, льву 4, жирафу 8 и т.д.\n",
        "Каждый день, смотритель зоопарка привозит еду такими же порциями. То есть за раз он привозит 8, 3, 9, 1, 7. Порция на 8 может накормить одно животное один раз. То есть такая порция может накормить либо енота, либо льва, либо жирафа, но не может накормить, например зебру и енота. Только кого-то одного.\n",
        "Надо написать функцию, которая определит, сколько из переданных животных может накормить заданное количество еды.\n"
      ],
      "metadata": {
        "id": "vQWi45BovQrJ"
      }
    },
    {
      "cell_type": "code",
      "source": [
        "def mergeSort(arr):\n",
        "  if len(arr) < 2:\n",
        "    return arr\n",
        "\n",
        "  mid = len(arr) // 2\n",
        "  leftSide = arr[:mid]\n",
        "  rightSide = arr[mid:]\n",
        "\n",
        "  return merge(mergeSort(leftSide), mergeSort(rightSide))\n",
        "\n",
        "def merge(a, b):\n",
        "  result = []\n",
        "  i, j = 0, 0\n",
        "  while i < len(a) and j < len(b):\n",
        "    if a[i] > b[j]:\n",
        "      result.append(b[j])\n",
        "      j += 1\n",
        "    else:\n",
        "      result.append(a[i])\n",
        "      i += 1\n",
        "  while i < len(a):\n",
        "    result.append(a[i])\n",
        "    i += 1\n",
        "  while j < len(b):\n",
        "    result.append(b[j])\n",
        "    j += 1\n",
        "  return result"
      ],
      "metadata": {
        "id": "DcnAuqjIS0sK"
      },
      "execution_count": null,
      "outputs": []
    },
    {
      "cell_type": "code",
      "source": [
        "def feedAnimals(animals, food):\n",
        "  if len(animals) == 0 or len(food) == 0:\n",
        "    return 0\n",
        "\n",
        "  animals = mergeSort(animals)\n",
        "  food = mergeSort(food)\n",
        "\n",
        "  i = 0\n",
        "  for f in food:\n",
        "    if animals[i] <= f:\n",
        "      i += 1\n",
        "    if i == len(animals):\n",
        "      break\n",
        "  return i"
      ],
      "metadata": {
        "id": "5vzZObjVO4Uf"
      },
      "execution_count": null,
      "outputs": []
    },
    {
      "cell_type": "markdown",
      "source": [
        "На вход функции подается две строки: a и b. Строка b образована из строки a путем перемешивания и добавления одной буквы. Необходимо вернуть эту букву"
      ],
      "metadata": {
        "id": "C-QC_vlmTVGi"
      }
    },
    {
      "cell_type": "code",
      "source": [
        "def extraLetter(a, b):\n",
        "  count = {}\n",
        "\n",
        "  for char in a:\n",
        "    count[char] = count.get(char, 0) + 1\n",
        "\n",
        "  for char in b:\n",
        "    if char in count:\n",
        "      count[char] -= 1\n",
        "      if count[char] == 0:\n",
        "        del count[char]\n",
        "    else:\n",
        "      return char\n",
        "\n",
        "  return ''"
      ],
      "metadata": {
        "id": "ZryiwiWqS4Dg"
      },
      "execution_count": null,
      "outputs": []
    },
    {
      "cell_type": "markdown",
      "source": [
        "Дан не отсортированный массив целых чисел и некоторое число target. Необходимо написать функцию, которая найдет два таких элемента в массиве, сумма которых будет равна target\n",
        "Один элемент можно использовать лишь один раз. В случае если два таких элемента не нашлось, возвращаем пустой массив"
      ],
      "metadata": {
        "id": "YtKAgztjlIC6"
      }
    },
    {
      "cell_type": "code",
      "source": [
        "def twoSum(data, target):\n",
        "  d = {}\n",
        "  for i in range(len(data)):\n",
        "    d[data[i]] = i\n",
        "  for i in range(len(data)):\n",
        "    delta = target - data[i]\n",
        "    if delta in d:\n",
        "      return (i, d[delta])\n",
        "  return []"
      ],
      "metadata": {
        "id": "CB7kjBfnlFTp"
      },
      "execution_count": null,
      "outputs": []
    },
    {
      "cell_type": "markdown",
      "source": [
        "Дан массив строк strs. Сгруппируйте анаграммы вместе. Вы можете вернуть ответ в любом порядке.\n",
        "\n",
        "Анаграмма - это слово или фраза, полученная путем перестановки букв другого слова или фразы, обычно с использованием всех исходных букв ровно один раз.\n",
        "\n",
        "Входные данные: [\"eat\",\"tea\",\"tan\",\"ate\",\"nat\",\"bat\"]\n",
        "Выходные: [[\"bat\"],[\"nat\",\"tan\"],[\"ate\",\"eat\",\"tea\"]]\n",
        "\n",
        "Входные данные: [\"won\",\"now\",\"aaa\",\"ooo\",\"ooo\"]\n",
        "Выходные: [[\"aaa\"],[\"ooo\", \"ooo\"],[\"won\",\"now\"]]\n"
      ],
      "metadata": {
        "id": "CAu7Lqcnu5Ey"
      }
    },
    {
      "cell_type": "code",
      "source": [
        "def anagram(arr):\n",
        "  dictionary = {}\n",
        "  for world in arr:\n",
        "    sorted_world = tuple(sorted(world))\n",
        "    if sorted_world not in dictionary:\n",
        "      dictionary[sorted_world] = []\n",
        "    dictionary[sorted_world].append(world)\n",
        "  return list(dictionary.values())\n",
        "\n",
        "anagram([\"won\",\"now\",\"aaa\",\"ooo\",\"ooo\"])"
      ],
      "metadata": {
        "colab": {
          "base_uri": "https://localhost:8080/"
        },
        "id": "DnKR7Cxbq1-9",
        "outputId": "4294bf63-a784-4688-c632-0f684afc694d"
      },
      "execution_count": null,
      "outputs": [
        {
          "output_type": "execute_result",
          "data": {
            "text/plain": [
              "[['won', 'now'], ['aaa'], ['ooo', 'ooo']]"
            ]
          },
          "metadata": {},
          "execution_count": 18
        }
      ]
    },
    {
      "cell_type": "code",
      "source": [],
      "metadata": {
        "id": "AXOF_IqSeivU"
      },
      "execution_count": null,
      "outputs": []
    }
  ]
}