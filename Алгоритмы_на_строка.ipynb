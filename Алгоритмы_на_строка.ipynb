{
  "nbformat": 4,
  "nbformat_minor": 0,
  "metadata": {
    "colab": {
      "provenance": [],
      "collapsed_sections": [
        "OUkKho9aRObV",
        "yQp6azYJR1lY",
        "6jttkL_wUi-K",
        "Afs-29vQjPYi",
        "a0s-GFUZqqBq",
        "bXDyAdHXqAvZ",
        "YXMt0FIUxqZD",
        "J-sS1Azczd7D",
        "b0Pc8hcozl7u",
        "52oQ_Dxb02sa",
        "k66nXMPW02kN",
        "UcKAsDMt02bN",
        "c4ZrKXzx02SH",
        "mSsJBWxXoqHH",
        "1w9dQyXgIpX9",
        "V8200y0_Kt0W"
      ],
      "include_colab_link": true
    },
    "kernelspec": {
      "name": "python3",
      "display_name": "Python 3"
    },
    "language_info": {
      "name": "python"
    }
  },
  "cells": [
    {
      "cell_type": "markdown",
      "metadata": {
        "id": "view-in-github",
        "colab_type": "text"
      },
      "source": [
        "<a href=\"https://colab.research.google.com/github/Macleyn/Algoritms/blob/main/%D0%90%D0%BB%D0%B3%D0%BE%D1%80%D0%B8%D1%82%D0%BC%D1%8B_%D0%BD%D0%B0_%D1%81%D1%82%D1%80%D0%BE%D0%BA%D0%B0.ipynb\" target=\"_parent\"><img src=\"https://colab.research.google.com/assets/colab-badge.svg\" alt=\"Open In Colab\"/></a>"
      ]
    },
    {
      "cell_type": "markdown",
      "source": [
        "Алгоритм Бойера-Мура-Хорспула"
      ],
      "metadata": {
        "id": "2lCNLSj1Av6A"
      }
    },
    {
      "cell_type": "code",
      "source": [
        "def boyer_moore_horspool(text, pattern):\n",
        "  len_text = len(text)\n",
        "  len_pattern = len(pattern)\n",
        "  if len_pattern > len_text:\n",
        "    return -1\n",
        "  if len_pattern == 0:\n",
        "    return 0 if len_text == 0 else -1\n",
        "\n",
        "  offset = {}\n",
        "  for i in range(len_pattern - 1):\n",
        "    offset[pattern[i]] = len_pattern - 1 - i\n",
        "\n",
        "  skip_val = len_pattern - 1\n",
        "  while skip_val < len_text:\n",
        "    match = True\n",
        "    current_letter = ''\n",
        "    for i in range(len_pattern):\n",
        "      lastIndex = i\n",
        "      current_letter = text[skip_val - i]\n",
        "      if pattern[len_pattern - 1 - i] != current_letter:\n",
        "        match = False\n",
        "        break\n",
        "    if match:\n",
        "      return skip_val - len_pattern + 1\n",
        "    if lastIndex > 0:\n",
        "      skip_val += offset.get(pattern[-1], len_pattern)\n",
        "      continue\n",
        "    skip_val += offset.get(current_letter, len_pattern)\n",
        "\n",
        "  return -1"
      ],
      "metadata": {
        "id": "AXOF_IqSeivU"
      },
      "execution_count": null,
      "outputs": []
    },
    {
      "cell_type": "markdown",
      "source": [
        "Алгоритм Рабина-Карпа"
      ],
      "metadata": {
        "id": "effxIg8bKafa"
      }
    },
    {
      "cell_type": "code",
      "source": [
        "def hash(l):\n",
        "  result = ord(l[0])\n",
        "  x = 31\n",
        "  q = 2147483647\n",
        "  for i in range(len(l) - 1):\n",
        "    result = result * x + ord(l[i + 1])\n",
        "  return result % q\n",
        "\n",
        "\n",
        "def rabina_karpa(text, pattern):\n",
        "  x = 31\n",
        "  q = 2147483647\n",
        "  pattern_hash = hash(pattern)\n",
        "  m = len(pattern)\n",
        "\n",
        "  current_hash = hash(text[:m])\n",
        "  i = 0\n",
        "  while True:\n",
        "    if current_hash == pattern_hash:\n",
        "      if text[i: i + m] == pattern:\n",
        "        return i\n",
        "    if i + m >= len(text):\n",
        "      break\n",
        "    current_hash = ((current_hash - ord(text[i]) * x ** (m - 1)) * x + ord(text[i + m])) % q\n",
        "    i += 1\n",
        "  return -1"
      ],
      "metadata": {
        "id": "WSPNPBF2pGvc"
      },
      "execution_count": null,
      "outputs": []
    },
    {
      "cell_type": "markdown",
      "source": [
        "Префикс - функция"
      ],
      "metadata": {
        "id": "PdohP-yFD9sb"
      }
    },
    {
      "cell_type": "code",
      "source": [
        "def prefix_function(text):\n",
        "  n = len(text)\n",
        "  pi = [0] * n\n",
        "  for i in range(1, n):\n",
        "    j = pi[i - 1]\n",
        "    while j > 0 and text[i] != text[j]:\n",
        "      j = pi[j - 1]\n",
        "    if text[i] == text[j]:\n",
        "      j += 1\n",
        "    pi[i] = j\n",
        "  return pi"
      ],
      "metadata": {
        "id": "qIyRU3zgS6HZ"
      },
      "execution_count": 14,
      "outputs": []
    },
    {
      "cell_type": "markdown",
      "source": [
        "Алгоритм Кнута — Морриса — Пратта"
      ],
      "metadata": {
        "id": "e2cuBgRY9fJz"
      }
    },
    {
      "cell_type": "code",
      "source": [
        "def kmp_search(text, pattern, start_index=0):\n",
        "  if not pattern:\n",
        "    return 0\n",
        "  j = 0\n",
        "  pi = prefix_function(pattern)\n",
        "  for i in range(start_index, len(text)):\n",
        "    while j > 0 and text[i] != pattern[j]:\n",
        "      j = pi[j - 1]\n",
        "    if text[i] == pattern[j]:\n",
        "      j += 1\n",
        "    if j >= len(pattern):\n",
        "      return i - j + 1\n",
        "  return None"
      ],
      "metadata": {
        "id": "RXuNLe9S9eiL"
      },
      "execution_count": 27,
      "outputs": []
    },
    {
      "cell_type": "code",
      "source": [
        "import unittest\n",
        "\n",
        "class TestKMPSearch(unittest.TestCase):\n",
        "\n",
        "    def test_exact_match(self):\n",
        "        \"\"\"Тест на точное совпадение\"\"\"\n",
        "        self.assertEqual(kmp_search(\"hello\", \"hello\"), 0)\n",
        "\n",
        "    def test_substring_found(self):\n",
        "        \"\"\"Тест на нахождение подстроки\"\"\"\n",
        "        self.assertEqual(kmp_search(\"abababc\", \"ababc\"), 2)\n",
        "        self.assertEqual(kmp_search(\"mississippi\", \"issi\"), 1)\n",
        "\n",
        "    def test_multiple_occurrences(self):\n",
        "        \"\"\"Тест на несколько вхождений (возврат первого)\"\"\"\n",
        "        self.assertEqual(kmp_search(\"ababab\", \"aba\"), 0)\n",
        "\n",
        "    def test_no_match(self):\n",
        "        \"\"\"Тест на отсутствие подстроки\"\"\"\n",
        "        self.assertIsNone(kmp_search(\"hello\", \"world\"))\n",
        "        self.assertIsNone(kmp_search(\"abc\", \"abcd\"))\n",
        "\n",
        "    def test_empty_pattern(self):\n",
        "        \"\"\"Тест с пустым паттерном (должен вернуть 0)\"\"\"\n",
        "        self.assertEqual(kmp_search(\"anything\", \"\"), 0)\n",
        "\n",
        "    def test_empty_text(self):\n",
        "        \"\"\"Тест с пустым текстом\"\"\"\n",
        "        self.assertIsNone(kmp_search(\"\", \"pattern\"))\n",
        "        self.assertEqual(kmp_search(\"\", \"\"), 0)  # Пустой паттерн в пустом тексте\n",
        "\n",
        "    def test_case_sensitive(self):\n",
        "        \"\"\"Тест на регистрозависимость\"\"\"\n",
        "        self.assertIsNone(kmp_search(\"Hello\", \"hello\"))\n",
        "        self.assertEqual(kmp_search(\"Hello\", \"ello\"), 1)\n",
        "\n",
        "    def test_special_characters(self):\n",
        "        \"\"\"Тест со спецсимволами\"\"\"\n",
        "        self.assertEqual(kmp_search(\"a*b*c$d\", \"*b*\"), 1)\n",
        "        self.assertEqual(kmp_search(\"123!@#\", \"!@\"), 3)\n",
        "\n",
        "# Запуск тестов\n",
        "if __name__ == '__main__':\n",
        "    unittest.main(argv=['first-arg-is-ignored'], exit=False)"
      ],
      "metadata": {
        "colab": {
          "base_uri": "https://localhost:8080/"
        },
        "id": "Bu7pISbLEC5F",
        "outputId": "dec1dfb5-a955-4c56-fef7-f091ef1b98de"
      },
      "execution_count": 28,
      "outputs": [
        {
          "output_type": "stream",
          "name": "stderr",
          "text": [
            "........\n",
            "----------------------------------------------------------------------\n",
            "Ran 8 tests in 0.008s\n",
            "\n",
            "OK\n"
          ]
        }
      ]
    }
  ]
}